{
 "cells": [
  {
   "cell_type": "code",
   "execution_count": 1,
   "id": "9bf8017d-8e9b-4acd-93e0-9967e6c5fc6d",
   "metadata": {},
   "outputs": [],
   "source": [
    "import pandas as pd\n",
    "import re\n",
    "from nltk.tokenize import RegexpTokenizer\n",
    "from nltk.corpus import stopwords\n",
    "from nltk.stem import WordNetLemmatizer, PorterStemmer"
   ]
  },
  {
   "cell_type": "code",
   "execution_count": 2,
   "id": "5c0d9cf0-b575-4671-babd-752ff0687efa",
   "metadata": {},
   "outputs": [],
   "source": [
    "df = pd.read_csv('../../datasets/lower_and_unstopped.csv')"
   ]
  },
  {
   "cell_type": "code",
   "execution_count": 3,
   "id": "5d58581e-6cb5-46bd-b3d8-3a4fd389e23a",
   "metadata": {},
   "outputs": [
    {
     "data": {
      "text/plain": [
       "(641954, 10)"
      ]
     },
     "execution_count": 3,
     "metadata": {},
     "output_type": "execute_result"
    }
   ],
   "source": [
    "df.shape"
   ]
  },
  {
   "cell_type": "code",
   "execution_count": 4,
   "id": "3f8be5fd-54fe-4f6f-8f02-5d14d010cf36",
   "metadata": {},
   "outputs": [
    {
     "data": {
      "text/html": [
       "<div>\n",
       "<style scoped>\n",
       "    .dataframe tbody tr th:only-of-type {\n",
       "        vertical-align: middle;\n",
       "    }\n",
       "\n",
       "    .dataframe tbody tr th {\n",
       "        vertical-align: top;\n",
       "    }\n",
       "\n",
       "    .dataframe thead th {\n",
       "        text-align: right;\n",
       "    }\n",
       "</style>\n",
       "<table border=\"1\" class=\"dataframe\">\n",
       "  <thead>\n",
       "    <tr style=\"text-align: right;\">\n",
       "      <th></th>\n",
       "      <th>Post_id</th>\n",
       "      <th>Title</th>\n",
       "      <th>Body</th>\n",
       "      <th>Score</th>\n",
       "      <th>Total_no_of_comments</th>\n",
       "      <th>Over_18</th>\n",
       "      <th>Subreddit</th>\n",
       "      <th>alltext</th>\n",
       "      <th>lowtext</th>\n",
       "      <th>unstopped</th>\n",
       "    </tr>\n",
       "  </thead>\n",
       "  <tbody>\n",
       "    <tr>\n",
       "      <th>0</th>\n",
       "      <td>4my6mq</td>\n",
       "      <td>ADD diagnosis???</td>\n",
       "      <td>I recently got health insurance and saw a psyc...</td>\n",
       "      <td>1</td>\n",
       "      <td>1</td>\n",
       "      <td>0</td>\n",
       "      <td>0</td>\n",
       "      <td>ADD diagnosis??? I recently got health insuran...</td>\n",
       "      <td>add diagnosis??? i recently got health insuran...</td>\n",
       "      <td>add diagnosis??? recently got health insurance...</td>\n",
       "    </tr>\n",
       "    <tr>\n",
       "      <th>1</th>\n",
       "      <td>eu31rt</td>\n",
       "      <td>question</td>\n",
       "      <td>what should I tell my loved ones when and if I...</td>\n",
       "      <td>1</td>\n",
       "      <td>1</td>\n",
       "      <td>0</td>\n",
       "      <td>1</td>\n",
       "      <td>question what should I tell my loved ones when...</td>\n",
       "      <td>question what should i tell my loved ones when...</td>\n",
       "      <td>question tell loved ones actually it?</td>\n",
       "    </tr>\n",
       "    <tr>\n",
       "      <th>2</th>\n",
       "      <td>75mnpg</td>\n",
       "      <td>Any Good Advice?</td>\n",
       "      <td>I've tried very hard to overcome this depressi...</td>\n",
       "      <td>6</td>\n",
       "      <td>2</td>\n",
       "      <td>0</td>\n",
       "      <td>0</td>\n",
       "      <td>Any Good Advice? Ive tried very hard to overco...</td>\n",
       "      <td>any good advice? ive tried very hard to overco...</td>\n",
       "      <td>any good advice? ive tried hard overcome depre...</td>\n",
       "    </tr>\n",
       "    <tr>\n",
       "      <th>3</th>\n",
       "      <td>230ip1</td>\n",
       "      <td>Am I suffering from depression?</td>\n",
       "      <td>I feel unmotivated in everything I do. I would...</td>\n",
       "      <td>1</td>\n",
       "      <td>3</td>\n",
       "      <td>0</td>\n",
       "      <td>0</td>\n",
       "      <td>Am I suffering from depression? I feel unmotiv...</td>\n",
       "      <td>am i suffering from depression? i feel unmotiv...</td>\n",
       "      <td>am suffering depression? feel unmotivated ever...</td>\n",
       "    </tr>\n",
       "    <tr>\n",
       "      <th>4</th>\n",
       "      <td>ihooit</td>\n",
       "      <td>Cada vez un poco más en la mierda</td>\n",
       "      <td>He estado tomando terapias psicologicas a espa...</td>\n",
       "      <td>1</td>\n",
       "      <td>4</td>\n",
       "      <td>0</td>\n",
       "      <td>1</td>\n",
       "      <td>Cada vez un poco más en la mierda He estado to...</td>\n",
       "      <td>cada vez un poco más en la mierda he estado to...</td>\n",
       "      <td>cada vez un poco más en la mierda estado toman...</td>\n",
       "    </tr>\n",
       "  </tbody>\n",
       "</table>\n",
       "</div>"
      ],
      "text/plain": [
       "  Post_id                              Title  \\\n",
       "0  4my6mq                   ADD diagnosis???   \n",
       "1  eu31rt                           question   \n",
       "2  75mnpg                   Any Good Advice?   \n",
       "3  230ip1    Am I suffering from depression?   \n",
       "4  ihooit  Cada vez un poco más en la mierda   \n",
       "\n",
       "                                                Body  Score  \\\n",
       "0  I recently got health insurance and saw a psyc...      1   \n",
       "1  what should I tell my loved ones when and if I...      1   \n",
       "2  I've tried very hard to overcome this depressi...      6   \n",
       "3  I feel unmotivated in everything I do. I would...      1   \n",
       "4  He estado tomando terapias psicologicas a espa...      1   \n",
       "\n",
       "   Total_no_of_comments  Over_18  Subreddit  \\\n",
       "0                     1        0          0   \n",
       "1                     1        0          1   \n",
       "2                     2        0          0   \n",
       "3                     3        0          0   \n",
       "4                     4        0          1   \n",
       "\n",
       "                                             alltext  \\\n",
       "0  ADD diagnosis??? I recently got health insuran...   \n",
       "1  question what should I tell my loved ones when...   \n",
       "2  Any Good Advice? Ive tried very hard to overco...   \n",
       "3  Am I suffering from depression? I feel unmotiv...   \n",
       "4  Cada vez un poco más en la mierda He estado to...   \n",
       "\n",
       "                                             lowtext  \\\n",
       "0  add diagnosis??? i recently got health insuran...   \n",
       "1  question what should i tell my loved ones when...   \n",
       "2  any good advice? ive tried very hard to overco...   \n",
       "3  am i suffering from depression? i feel unmotiv...   \n",
       "4  cada vez un poco más en la mierda he estado to...   \n",
       "\n",
       "                                           unstopped  \n",
       "0  add diagnosis??? recently got health insurance...  \n",
       "1              question tell loved ones actually it?  \n",
       "2  any good advice? ive tried hard overcome depre...  \n",
       "3  am suffering depression? feel unmotivated ever...  \n",
       "4  cada vez un poco más en la mierda estado toman...  "
      ]
     },
     "execution_count": 4,
     "metadata": {},
     "output_type": "execute_result"
    }
   ],
   "source": [
    "df.head()"
   ]
  },
  {
   "cell_type": "code",
   "execution_count": 5,
   "id": "afb606c5-5d5d-49ff-8e4f-49cfdb207405",
   "metadata": {},
   "outputs": [],
   "source": [
    "tok1 = RegexpTokenizer(r'\\w+')\n",
    "tok2 = RegexpTokenizer('\\w+|\\$[\\d\\.]+|\\S+')\n",
    "\n",
    "lemmatizer = WordNetLemmatizer()"
   ]
  },
  {
   "cell_type": "code",
   "execution_count": 6,
   "id": "d765f08b-b306-485e-8093-7d6e9cd443aa",
   "metadata": {},
   "outputs": [],
   "source": [
    "df['unst_simp_lem'] = df['unstopped'].map(lambda x: ' '.join(tok1.tokenize(x)))\n",
    "df['unst_simp_lem'] = df['unst_simp_lem'].map(lambda x: ' '.join([lemmatizer.lemmatize(word) for word in x.split()]))"
   ]
  },
  {
   "cell_type": "code",
   "execution_count": 7,
   "id": "224a60ff-ddff-4883-9c96-bf1a9074e8c4",
   "metadata": {},
   "outputs": [],
   "source": [
    "pd.DataFrame(df['unst_simp_lem']).to_csv('../../datasets/unst_simp_lem.csv', index = False)"
   ]
  },
  {
   "cell_type": "code",
   "execution_count": 8,
   "id": "7e06249d-b2d5-43cf-92e5-576a7e0ffb32",
   "metadata": {},
   "outputs": [],
   "source": [
    "df['unst_comp_lem'] = df['unstopped'].map(lambda x: ' '.join(tok2.tokenize(x)))\n",
    "df['unst_comp_lem'] = df['unst_comp_lem'].map(lambda x: ' '.join([lemmatizer.lemmatize(word) for word in x.split()]))"
   ]
  },
  {
   "cell_type": "code",
   "execution_count": 9,
   "id": "518c1ca3-4fcf-4021-a319-ecdcd4f49327",
   "metadata": {},
   "outputs": [],
   "source": [
    "pd.DataFrame(df['unst_comp_lem']).to_csv('../../datasets/unst_comp_lem.csv', index = False)"
   ]
  },
  {
   "cell_type": "code",
   "execution_count": 10,
   "id": "56fed85e-e997-4fb5-8f9f-81144f3aa65c",
   "metadata": {},
   "outputs": [
    {
     "data": {
      "text/plain": [
       "(641954, 12)"
      ]
     },
     "execution_count": 10,
     "metadata": {},
     "output_type": "execute_result"
    }
   ],
   "source": [
    "df.shape"
   ]
  },
  {
   "cell_type": "code",
   "execution_count": null,
   "id": "02ab39ae-c6ad-4397-8eaf-703ee96878dc",
   "metadata": {},
   "outputs": [],
   "source": []
  }
 ],
 "metadata": {
  "kernelspec": {
   "display_name": "Python 3",
   "language": "python",
   "name": "python3"
  },
  "language_info": {
   "codemirror_mode": {
    "name": "ipython",
    "version": 3
   },
   "file_extension": ".py",
   "mimetype": "text/x-python",
   "name": "python",
   "nbconvert_exporter": "python",
   "pygments_lexer": "ipython3",
   "version": "3.8.8"
  }
 },
 "nbformat": 4,
 "nbformat_minor": 5
}
