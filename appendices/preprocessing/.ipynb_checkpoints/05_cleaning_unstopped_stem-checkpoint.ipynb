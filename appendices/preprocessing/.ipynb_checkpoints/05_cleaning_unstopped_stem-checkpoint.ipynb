{
 "cells": [
  {
   "cell_type": "code",
   "execution_count": 1,
   "id": "9bf8017d-8e9b-4acd-93e0-9967e6c5fc6d",
   "metadata": {},
   "outputs": [],
   "source": [
    "import pandas as pd\n",
    "import re\n",
    "from nltk.tokenize import RegexpTokenizer\n",
    "from nltk.corpus import stopwords\n",
    "from nltk.stem import WordNetLemmatizer, PorterStemmer"
   ]
  },
  {
   "cell_type": "code",
   "execution_count": 2,
   "id": "dd445fe8-da1a-4e8f-a5ea-8823db37a188",
   "metadata": {},
   "outputs": [],
   "source": [
    "df = pd.read_csv('../../datasets/lower_and_unstopped.csv')"
   ]
  },
  {
   "cell_type": "code",
   "execution_count": 3,
   "id": "8147b03c-2395-460e-a254-22cb5802724b",
   "metadata": {},
   "outputs": [
    {
     "data": {
      "text/html": [
       "<div>\n",
       "<style scoped>\n",
       "    .dataframe tbody tr th:only-of-type {\n",
       "        vertical-align: middle;\n",
       "    }\n",
       "\n",
       "    .dataframe tbody tr th {\n",
       "        vertical-align: top;\n",
       "    }\n",
       "\n",
       "    .dataframe thead th {\n",
       "        text-align: right;\n",
       "    }\n",
       "</style>\n",
       "<table border=\"1\" class=\"dataframe\">\n",
       "  <thead>\n",
       "    <tr style=\"text-align: right;\">\n",
       "      <th></th>\n",
       "      <th>Post_id</th>\n",
       "      <th>Title</th>\n",
       "      <th>Body</th>\n",
       "      <th>Score</th>\n",
       "      <th>Total_no_of_comments</th>\n",
       "      <th>Over_18</th>\n",
       "      <th>Subreddit</th>\n",
       "      <th>alltext</th>\n",
       "      <th>lowtext</th>\n",
       "      <th>unstopped</th>\n",
       "    </tr>\n",
       "  </thead>\n",
       "  <tbody>\n",
       "    <tr>\n",
       "      <th>0</th>\n",
       "      <td>4my6mq</td>\n",
       "      <td>ADD diagnosis???</td>\n",
       "      <td>I recently got health insurance and saw a psyc...</td>\n",
       "      <td>1</td>\n",
       "      <td>1</td>\n",
       "      <td>0</td>\n",
       "      <td>0</td>\n",
       "      <td>ADD diagnosis??? I recently got health insuran...</td>\n",
       "      <td>add diagnosis??? i recently got health insuran...</td>\n",
       "      <td>add diagnosis??? recently got health insurance...</td>\n",
       "    </tr>\n",
       "    <tr>\n",
       "      <th>1</th>\n",
       "      <td>eu31rt</td>\n",
       "      <td>question</td>\n",
       "      <td>what should I tell my loved ones when and if I...</td>\n",
       "      <td>1</td>\n",
       "      <td>1</td>\n",
       "      <td>0</td>\n",
       "      <td>1</td>\n",
       "      <td>question what should I tell my loved ones when...</td>\n",
       "      <td>question what should i tell my loved ones when...</td>\n",
       "      <td>question tell loved ones actually it?</td>\n",
       "    </tr>\n",
       "    <tr>\n",
       "      <th>2</th>\n",
       "      <td>75mnpg</td>\n",
       "      <td>Any Good Advice?</td>\n",
       "      <td>I've tried very hard to overcome this depressi...</td>\n",
       "      <td>6</td>\n",
       "      <td>2</td>\n",
       "      <td>0</td>\n",
       "      <td>0</td>\n",
       "      <td>Any Good Advice? Ive tried very hard to overco...</td>\n",
       "      <td>any good advice? ive tried very hard to overco...</td>\n",
       "      <td>any good advice? ive tried hard overcome depre...</td>\n",
       "    </tr>\n",
       "    <tr>\n",
       "      <th>3</th>\n",
       "      <td>230ip1</td>\n",
       "      <td>Am I suffering from depression?</td>\n",
       "      <td>I feel unmotivated in everything I do. I would...</td>\n",
       "      <td>1</td>\n",
       "      <td>3</td>\n",
       "      <td>0</td>\n",
       "      <td>0</td>\n",
       "      <td>Am I suffering from depression? I feel unmotiv...</td>\n",
       "      <td>am i suffering from depression? i feel unmotiv...</td>\n",
       "      <td>am suffering depression? feel unmotivated ever...</td>\n",
       "    </tr>\n",
       "    <tr>\n",
       "      <th>4</th>\n",
       "      <td>ihooit</td>\n",
       "      <td>Cada vez un poco más en la mierda</td>\n",
       "      <td>He estado tomando terapias psicologicas a espa...</td>\n",
       "      <td>1</td>\n",
       "      <td>4</td>\n",
       "      <td>0</td>\n",
       "      <td>1</td>\n",
       "      <td>Cada vez un poco más en la mierda He estado to...</td>\n",
       "      <td>cada vez un poco más en la mierda he estado to...</td>\n",
       "      <td>cada vez un poco más en la mierda estado toman...</td>\n",
       "    </tr>\n",
       "  </tbody>\n",
       "</table>\n",
       "</div>"
      ],
      "text/plain": [
       "  Post_id                              Title  \\\n",
       "0  4my6mq                   ADD diagnosis???   \n",
       "1  eu31rt                           question   \n",
       "2  75mnpg                   Any Good Advice?   \n",
       "3  230ip1    Am I suffering from depression?   \n",
       "4  ihooit  Cada vez un poco más en la mierda   \n",
       "\n",
       "                                                Body  Score  \\\n",
       "0  I recently got health insurance and saw a psyc...      1   \n",
       "1  what should I tell my loved ones when and if I...      1   \n",
       "2  I've tried very hard to overcome this depressi...      6   \n",
       "3  I feel unmotivated in everything I do. I would...      1   \n",
       "4  He estado tomando terapias psicologicas a espa...      1   \n",
       "\n",
       "   Total_no_of_comments  Over_18  Subreddit  \\\n",
       "0                     1        0          0   \n",
       "1                     1        0          1   \n",
       "2                     2        0          0   \n",
       "3                     3        0          0   \n",
       "4                     4        0          1   \n",
       "\n",
       "                                             alltext  \\\n",
       "0  ADD diagnosis??? I recently got health insuran...   \n",
       "1  question what should I tell my loved ones when...   \n",
       "2  Any Good Advice? Ive tried very hard to overco...   \n",
       "3  Am I suffering from depression? I feel unmotiv...   \n",
       "4  Cada vez un poco más en la mierda He estado to...   \n",
       "\n",
       "                                             lowtext  \\\n",
       "0  add diagnosis??? i recently got health insuran...   \n",
       "1  question what should i tell my loved ones when...   \n",
       "2  any good advice? ive tried very hard to overco...   \n",
       "3  am i suffering from depression? i feel unmotiv...   \n",
       "4  cada vez un poco más en la mierda he estado to...   \n",
       "\n",
       "                                           unstopped  \n",
       "0  add diagnosis??? recently got health insurance...  \n",
       "1              question tell loved ones actually it?  \n",
       "2  any good advice? ive tried hard overcome depre...  \n",
       "3  am suffering depression? feel unmotivated ever...  \n",
       "4  cada vez un poco más en la mierda estado toman...  "
      ]
     },
     "execution_count": 3,
     "metadata": {},
     "output_type": "execute_result"
    }
   ],
   "source": [
    "df.head()"
   ]
  },
  {
   "cell_type": "code",
   "execution_count": 4,
   "id": "2bacf317-b7b7-4163-9cd4-a9b3feda7476",
   "metadata": {},
   "outputs": [
    {
     "data": {
      "text/plain": [
       "(641954, 10)"
      ]
     },
     "execution_count": 4,
     "metadata": {},
     "output_type": "execute_result"
    }
   ],
   "source": [
    "df.shape"
   ]
  },
  {
   "cell_type": "code",
   "execution_count": 5,
   "id": "2ceeb0ca-6a54-443d-8d03-bb5017827cd6",
   "metadata": {},
   "outputs": [],
   "source": [
    "tok1 = RegexpTokenizer(r'\\w+')\n",
    "tok2 = RegexpTokenizer('\\w+|\\$[\\d\\.]+|\\S+')\n",
    "\n",
    "p_stemmer = PorterStemmer()"
   ]
  },
  {
   "cell_type": "code",
   "execution_count": 6,
   "id": "b6ab36b3-f334-496d-b99c-e1aa0de3fe14",
   "metadata": {},
   "outputs": [],
   "source": [
    "df['unst_simp_stem'] = df['unstopped'].map(lambda x: ' '.join(tok1.tokenize(x)))\n",
    "df['unst_simp_stem'] = df['unst_simp_stem'].map(lambda x: ' '.join([p_stemmer.stem(word) for word in x.split()]))"
   ]
  },
  {
   "cell_type": "code",
   "execution_count": 7,
   "id": "9794b213-2abc-4984-b79f-9bb17d73dc78",
   "metadata": {},
   "outputs": [],
   "source": [
    "pd.DataFrame(df['unst_simp_stem']).to_csv('../../datasets/unst_simp_stem.csv', index = False)"
   ]
  },
  {
   "cell_type": "code",
   "execution_count": 8,
   "id": "7c3d7a9b-91ec-43e8-95e2-5cb936d7e889",
   "metadata": {},
   "outputs": [],
   "source": [
    "df['unst_comp_stem'] = df['unstopped'].map(lambda x: ' '.join(tok2.tokenize(x)))\n",
    "df['unst_comp_stem'] = df['unst_comp_stem'].map(lambda x: ' '.join([p_stemmer.stem(word) for word in x.split()]))"
   ]
  },
  {
   "cell_type": "code",
   "execution_count": 9,
   "id": "858c190c-9dcf-4bf0-a39e-1e610e6aa89b",
   "metadata": {},
   "outputs": [],
   "source": [
    "pd.DataFrame(df['unst_comp_stem']).to_csv('../../datasets/unst_comp_stem.csv', index = False)"
   ]
  },
  {
   "cell_type": "code",
   "execution_count": 10,
   "id": "6c6ba99a-32b9-4bcb-bd23-dd7268791cfa",
   "metadata": {},
   "outputs": [
    {
     "data": {
      "text/plain": [
       "(641954, 12)"
      ]
     },
     "execution_count": 10,
     "metadata": {},
     "output_type": "execute_result"
    }
   ],
   "source": [
    "df.shape"
   ]
  },
  {
   "cell_type": "code",
   "execution_count": null,
   "id": "db3fdfd6-283c-4dd7-882b-68cbd0930787",
   "metadata": {},
   "outputs": [],
   "source": []
  }
 ],
 "metadata": {
  "kernelspec": {
   "display_name": "Python 3",
   "language": "python",
   "name": "python3"
  },
  "language_info": {
   "codemirror_mode": {
    "name": "ipython",
    "version": 3
   },
   "file_extension": ".py",
   "mimetype": "text/x-python",
   "name": "python",
   "nbconvert_exporter": "python",
   "pygments_lexer": "ipython3",
   "version": "3.8.8"
  }
 },
 "nbformat": 4,
 "nbformat_minor": 5
}
