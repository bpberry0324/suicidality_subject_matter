{
 "cells": [
  {
   "cell_type": "markdown",
   "id": "91dbbbe3-6079-4b07-970f-cae1e68bb2e3",
   "metadata": {},
   "source": [
    "## Preliminary Capstone EDA"
   ]
  },
  {
   "cell_type": "markdown",
   "id": "72c14d59-f4f0-43d5-80f3-36c6189fe3bb",
   "metadata": {},
   "source": [
    "The purpose of this survey is to create a predictive model that assesses text to detect in its subject matter content that relates to suicidality. While not explicitly \"predicting suicidality\" directly, such a predictive model, if successful, by classifying content according to its focus or lack thereof on suicidality, could allow observers greater ability to review such posts, messages, etc. to assess what is written more carefully.\n",
    "\n",
    "The initial dataset of roughly 700,000 subreddit posts was collected via the PushShift API and uploaded to Kaggle by Nikhileswar Komati, from the `SuicideWatch` subreddit and the `depression` subreddit. While depression does not by itself \"predict\" suicidality, it is often the case that sufferers from depression also suffer from some degree of suicidal ideation. Stated differently, by comparing the `SuicideWatch` subreddit to a subreddit whose concerns are not whole different from its own, models used can hopefully fine-tune themselves to a greater degree of accuracy. This could allow for a greater capacity to predict when a person's depressive symptoms become especially severe/concerning.\n",
    "\n",
    "It must be stated (again) that success garnered by the modeling process can be treated as a proxy for medical treatment. Also, because the `SuicideWatch` subreddit is specifically designated as a forum in which to communicate and share stories on matters related to suicide, the determination of just how easily the model's findings generalize to other contexts would require further study, regardless of how well any final model performs.\n",
    "\n",
    "At the time of this writing, the plan going forward is to model the data (vectorized) using neural networks and deep learning techniques to build the most accurate model possible, and also a random forest model just for comparison. Because of the nature of neural networks (i.e. their lack of interpretability), the hope is to also fit the data to a logistic regression model for the purpose of discovering what patterns, if any, observers might learn and take with them in future inquiries."
   ]
  },
  {
   "cell_type": "markdown",
   "id": "fec0fa13-7927-4f64-b9d6-5564acfe7c99",
   "metadata": {},
   "source": [
    "#### Initial Imports"
   ]
  },
  {
   "cell_type": "code",
   "execution_count": 22,
   "id": "bc9ae8d0-2db4-4fa6-8ebd-e5404d2c5427",
   "metadata": {},
   "outputs": [],
   "source": [
    "import pandas as pd\n",
    "import numpy as np\n",
    "import matplotlib.pyplot as plt\n",
    "import seaborn as sns"
   ]
  },
  {
   "cell_type": "markdown",
   "id": "334ef410-efac-4fc4-af9a-e01c630ade13",
   "metadata": {},
   "source": [
    "#### DataFrame Reassembly\n",
    "\n",
    "Because of the size of the original dataset, preprocessing was performed somewhat piecemeal and features were exported likewise. In the cells below, those features relevant for EDA are gathered and recombined."
   ]
  },
  {
   "cell_type": "code",
   "execution_count": 23,
   "id": "374d80f0-fc52-48b3-8ec1-998bb0e09d6e",
   "metadata": {},
   "outputs": [],
   "source": [
    "df = pd.merge(pd.read_csv('../../datasets/unst_simp_lem.csv'), pd.read_csv('../../datasets/unst_simp_stem.csv'), left_index = True, right_index = True)"
   ]
  },
  {
   "cell_type": "code",
   "execution_count": 24,
   "id": "2c21e863-f838-422f-a47d-bb68c7f3d0c8",
   "metadata": {},
   "outputs": [],
   "source": [
    "df['body'] = pd.read_csv('../../datasets/lower_and_unstopped.csv')['Body']\n",
    "df['alltext'] = pd.read_csv('../../datasets/lower_and_unstopped.csv')['alltext']\n",
    "df['label'] = pd.read_csv('../../datasets/lower_and_unstopped.csv')['Subreddit']"
   ]
  },
  {
   "cell_type": "markdown",
   "id": "0682a29c-97b6-4a68-91ad-31fec4a1701a",
   "metadata": {},
   "source": [
    "#### Null Checks\n",
    "\n",
    "A handful of columns without any words resulted in null columns during feature engineering. In the cells below, these entries are removed to enable plotting and additional frequency calculations."
   ]
  },
  {
   "cell_type": "code",
   "execution_count": 25,
   "id": "1bc341c5-fb6e-4099-adc4-8df338009e6e",
   "metadata": {},
   "outputs": [
    {
     "data": {
      "text/plain": [
       "unst_simp_lem     15\n",
       "unst_simp_stem    15\n",
       "body               0\n",
       "alltext            0\n",
       "label              0\n",
       "dtype: int64"
      ]
     },
     "execution_count": 25,
     "metadata": {},
     "output_type": "execute_result"
    }
   ],
   "source": [
    "df.isnull().sum()"
   ]
  },
  {
   "cell_type": "code",
   "execution_count": 26,
   "id": "408f974a-80ab-46a1-b343-1d59ec86dc8a",
   "metadata": {},
   "outputs": [
    {
     "data": {
      "text/html": [
       "<div>\n",
       "<style scoped>\n",
       "    .dataframe tbody tr th:only-of-type {\n",
       "        vertical-align: middle;\n",
       "    }\n",
       "\n",
       "    .dataframe tbody tr th {\n",
       "        vertical-align: top;\n",
       "    }\n",
       "\n",
       "    .dataframe thead th {\n",
       "        text-align: right;\n",
       "    }\n",
       "</style>\n",
       "<table border=\"1\" class=\"dataframe\">\n",
       "  <thead>\n",
       "    <tr style=\"text-align: right;\">\n",
       "      <th></th>\n",
       "      <th>unst_simp_lem</th>\n",
       "      <th>unst_simp_stem</th>\n",
       "      <th>body</th>\n",
       "      <th>alltext</th>\n",
       "      <th>label</th>\n",
       "    </tr>\n",
       "  </thead>\n",
       "  <tbody>\n",
       "    <tr>\n",
       "      <th>41825</th>\n",
       "      <td>NaN</td>\n",
       "      <td>NaN</td>\n",
       "      <td>🙂🙂🙂🙂🙂🙂🙂🙂🙂🙂🙂🙂🙂🙂🙂🙂🙂🙂🙂🙂🙂🙂🙂🙂🙂🙂🙂🙂🙂🙂🙂🙂🙂🙂🙂🙂🙂🙂🙂🙂🙂🙂🙂🙂🙂🙂...</td>\n",
       "      <td>. 🙂🙂🙂🙂🙂🙂🙂🙂🙂🙂🙂🙂🙂🙂🙂🙂🙂🙂🙂🙂🙂🙂🙂🙂🙂🙂🙂🙂🙂🙂🙂🙂🙂🙂🙂🙂🙂🙂🙂🙂🙂🙂🙂🙂...</td>\n",
       "      <td>1</td>\n",
       "    </tr>\n",
       "    <tr>\n",
       "      <th>81030</th>\n",
       "      <td>NaN</td>\n",
       "      <td>NaN</td>\n",
       "      <td>-.. .- .-. -.- -. . ... ... / .. -- .--. .-. ....</td>\n",
       "      <td>... --- ... / .... . .-.. .--. / .--. .-.. . ....</td>\n",
       "      <td>1</td>\n",
       "    </tr>\n",
       "    <tr>\n",
       "      <th>86133</th>\n",
       "      <td>NaN</td>\n",
       "      <td>NaN</td>\n",
       "      <td>👁👁😮😮👁👁😮😮🤪🤪🤪👁👁😮😮😮</td>\n",
       "      <td>😮😮😮👁👁 👁👁😮😮👁👁😮😮🤪🤪🤪👁👁😮😮😮</td>\n",
       "      <td>1</td>\n",
       "    </tr>\n",
       "    <tr>\n",
       "      <th>148069</th>\n",
       "      <td>NaN</td>\n",
       "      <td>NaN</td>\n",
       "      <td>:........</td>\n",
       "      <td>:/ :........</td>\n",
       "      <td>1</td>\n",
       "    </tr>\n",
       "    <tr>\n",
       "      <th>151998</th>\n",
       "      <td>NaN</td>\n",
       "      <td>NaN</td>\n",
       "      <td>:/</td>\n",
       "      <td>:/ :/</td>\n",
       "      <td>1</td>\n",
       "    </tr>\n",
       "    <tr>\n",
       "      <th>220931</th>\n",
       "      <td>NaN</td>\n",
       "      <td>NaN</td>\n",
       "      <td>[https://www.reddit.com/r/depression/comments/...</td>\n",
       "      <td>!!!!!!!! [</td>\n",
       "      <td>1</td>\n",
       "    </tr>\n",
       "    <tr>\n",
       "      <th>240050</th>\n",
       "      <td>NaN</td>\n",
       "      <td>NaN</td>\n",
       "      <td>:&amp;lt;</td>\n",
       "      <td>:&lt;; :&lt;;</td>\n",
       "      <td>0</td>\n",
       "    </tr>\n",
       "    <tr>\n",
       "      <th>262452</th>\n",
       "      <td>NaN</td>\n",
       "      <td>NaN</td>\n",
       "      <td>.......................</td>\n",
       "      <td>... .......................</td>\n",
       "      <td>1</td>\n",
       "    </tr>\n",
       "    <tr>\n",
       "      <th>270565</th>\n",
       "      <td>NaN</td>\n",
       "      <td>NaN</td>\n",
       "      <td>https://www.youtube.com/watch?v=rtMztv0foU4\\n\\...</td>\n",
       "      <td>.</td>\n",
       "      <td>1</td>\n",
       "    </tr>\n",
       "    <tr>\n",
       "      <th>319487</th>\n",
       "      <td>NaN</td>\n",
       "      <td>NaN</td>\n",
       "      <td>😭</td>\n",
       "      <td>😭 😭</td>\n",
       "      <td>1</td>\n",
       "    </tr>\n",
       "    <tr>\n",
       "      <th>397333</th>\n",
       "      <td>NaN</td>\n",
       "      <td>NaN</td>\n",
       "      <td>https://np.reddit.com/r/LadyBoners/</td>\n",
       "      <td></td>\n",
       "      <td>1</td>\n",
       "    </tr>\n",
       "    <tr>\n",
       "      <th>414316</th>\n",
       "      <td>NaN</td>\n",
       "      <td>NaN</td>\n",
       "      <td>⠀⠀⠀⠀⠀⠀⠀⠀⠀</td>\n",
       "      <td>⠀⠀⠀⠀⠀⠀⠀⠀⠀ ⠀⠀⠀⠀⠀⠀⠀⠀⠀</td>\n",
       "      <td>1</td>\n",
       "    </tr>\n",
       "    <tr>\n",
       "      <th>429030</th>\n",
       "      <td>NaN</td>\n",
       "      <td>NaN</td>\n",
       "      <td>:'(</td>\n",
       "      <td>:( :(</td>\n",
       "      <td>1</td>\n",
       "    </tr>\n",
       "    <tr>\n",
       "      <th>456679</th>\n",
       "      <td>NaN</td>\n",
       "      <td>NaN</td>\n",
       "      <td>... \\n\\n...\\n\\n.</td>\n",
       "      <td>... ...   ...  .</td>\n",
       "      <td>0</td>\n",
       "    </tr>\n",
       "    <tr>\n",
       "      <th>474526</th>\n",
       "      <td>NaN</td>\n",
       "      <td>NaN</td>\n",
       "      <td>https://www.reddit.com/r/TrueOffMyChest/commen...</td>\n",
       "      <td></td>\n",
       "      <td>1</td>\n",
       "    </tr>\n",
       "  </tbody>\n",
       "</table>\n",
       "</div>"
      ],
      "text/plain": [
       "       unst_simp_lem unst_simp_stem  \\\n",
       "41825            NaN            NaN   \n",
       "81030            NaN            NaN   \n",
       "86133            NaN            NaN   \n",
       "148069           NaN            NaN   \n",
       "151998           NaN            NaN   \n",
       "220931           NaN            NaN   \n",
       "240050           NaN            NaN   \n",
       "262452           NaN            NaN   \n",
       "270565           NaN            NaN   \n",
       "319487           NaN            NaN   \n",
       "397333           NaN            NaN   \n",
       "414316           NaN            NaN   \n",
       "429030           NaN            NaN   \n",
       "456679           NaN            NaN   \n",
       "474526           NaN            NaN   \n",
       "\n",
       "                                                     body  \\\n",
       "41825   🙂🙂🙂🙂🙂🙂🙂🙂🙂🙂🙂🙂🙂🙂🙂🙂🙂🙂🙂🙂🙂🙂🙂🙂🙂🙂🙂🙂🙂🙂🙂🙂🙂🙂🙂🙂🙂🙂🙂🙂🙂🙂🙂🙂🙂🙂...   \n",
       "81030   -.. .- .-. -.- -. . ... ... / .. -- .--. .-. ....   \n",
       "86133                                    👁👁😮😮👁👁😮😮🤪🤪🤪👁👁😮😮😮   \n",
       "148069                                          :........   \n",
       "151998                                                 :/   \n",
       "220931  [https://www.reddit.com/r/depression/comments/...   \n",
       "240050                                              :&lt;   \n",
       "262452                            .......................   \n",
       "270565  https://www.youtube.com/watch?v=rtMztv0foU4\\n\\...   \n",
       "319487                                                  😭   \n",
       "397333                https://np.reddit.com/r/LadyBoners/   \n",
       "414316                                          ⠀⠀⠀⠀⠀⠀⠀⠀⠀   \n",
       "429030                                                :'(   \n",
       "456679                                   ... \\n\\n...\\n\\n.   \n",
       "474526  https://www.reddit.com/r/TrueOffMyChest/commen...   \n",
       "\n",
       "                                                  alltext  label  \n",
       "41825   . 🙂🙂🙂🙂🙂🙂🙂🙂🙂🙂🙂🙂🙂🙂🙂🙂🙂🙂🙂🙂🙂🙂🙂🙂🙂🙂🙂🙂🙂🙂🙂🙂🙂🙂🙂🙂🙂🙂🙂🙂🙂🙂🙂🙂...      1  \n",
       "81030   ... --- ... / .... . .-.. .--. / .--. .-.. . ....      1  \n",
       "86133                              😮😮😮👁👁 👁👁😮😮👁👁😮😮🤪🤪🤪👁👁😮😮😮      1  \n",
       "148069                                       :/ :........      1  \n",
       "151998                                              :/ :/      1  \n",
       "220931                                         !!!!!!!! [      1  \n",
       "240050                                            :<; :<;      0  \n",
       "262452                        ... .......................      1  \n",
       "270565                                               .         1  \n",
       "319487                                                😭 😭      1  \n",
       "397333                                                         1  \n",
       "414316                                ⠀⠀⠀⠀⠀⠀⠀⠀⠀ ⠀⠀⠀⠀⠀⠀⠀⠀⠀      1  \n",
       "429030                                              :( :(      1  \n",
       "456679                                   ... ...   ...  .      0  \n",
       "474526                                                         1  "
      ]
     },
     "execution_count": 26,
     "metadata": {},
     "output_type": "execute_result"
    }
   ],
   "source": [
    "df[df['unst_simp_lem'].isnull()]"
   ]
  },
  {
   "cell_type": "code",
   "execution_count": 27,
   "id": "432c5bc8-e2d7-4ae7-bf39-4c3d8a327eeb",
   "metadata": {},
   "outputs": [],
   "source": [
    "df.dropna(inplace=True)"
   ]
  },
  {
   "cell_type": "code",
   "execution_count": 28,
   "id": "e147e530-d731-4a39-8fde-08f452ce8440",
   "metadata": {},
   "outputs": [],
   "source": [
    "df.reset_index(drop=True, inplace=True)"
   ]
  },
  {
   "cell_type": "markdown",
   "id": "a8cc593b-b145-4124-9d9c-47ac7488e043",
   "metadata": {},
   "source": [
    "Now, all is well:"
   ]
  },
  {
   "cell_type": "code",
   "execution_count": 29,
   "id": "6caf88e5-f1e0-4857-b0b5-d254c84a971b",
   "metadata": {},
   "outputs": [
    {
     "data": {
      "text/html": [
       "<div>\n",
       "<style scoped>\n",
       "    .dataframe tbody tr th:only-of-type {\n",
       "        vertical-align: middle;\n",
       "    }\n",
       "\n",
       "    .dataframe tbody tr th {\n",
       "        vertical-align: top;\n",
       "    }\n",
       "\n",
       "    .dataframe thead th {\n",
       "        text-align: right;\n",
       "    }\n",
       "</style>\n",
       "<table border=\"1\" class=\"dataframe\">\n",
       "  <thead>\n",
       "    <tr style=\"text-align: right;\">\n",
       "      <th></th>\n",
       "      <th>unst_simp_lem</th>\n",
       "      <th>unst_simp_stem</th>\n",
       "      <th>body</th>\n",
       "      <th>alltext</th>\n",
       "      <th>label</th>\n",
       "    </tr>\n",
       "  </thead>\n",
       "  <tbody>\n",
       "    <tr>\n",
       "      <th>0</th>\n",
       "      <td>add diagnosis recently got health insurance sa...</td>\n",
       "      <td>add diagnosi i recent got health insur and saw...</td>\n",
       "      <td>I recently got health insurance and saw a psyc...</td>\n",
       "      <td>ADD diagnosis??? I recently got health insuran...</td>\n",
       "      <td>0</td>\n",
       "    </tr>\n",
       "    <tr>\n",
       "      <th>1</th>\n",
       "      <td>question tell loved one actually it</td>\n",
       "      <td>question what should i tell my love one when a...</td>\n",
       "      <td>what should I tell my loved ones when and if I...</td>\n",
       "      <td>question what should I tell my loved ones when...</td>\n",
       "      <td>1</td>\n",
       "    </tr>\n",
       "    <tr>\n",
       "      <th>2</th>\n",
       "      <td>any good advice ive tried hard overcome depres...</td>\n",
       "      <td>ani good advic ive tri veri hard to overcom th...</td>\n",
       "      <td>I've tried very hard to overcome this depressi...</td>\n",
       "      <td>Any Good Advice? Ive tried very hard to overco...</td>\n",
       "      <td>0</td>\n",
       "    </tr>\n",
       "    <tr>\n",
       "      <th>3</th>\n",
       "      <td>am suffering depression feel unmotivated every...</td>\n",
       "      <td>am i suffer from depress i feel unmotiv in eve...</td>\n",
       "      <td>I feel unmotivated in everything I do. I would...</td>\n",
       "      <td>Am I suffering from depression? I feel unmotiv...</td>\n",
       "      <td>0</td>\n",
       "    </tr>\n",
       "    <tr>\n",
       "      <th>4</th>\n",
       "      <td>cada vez un poco más en la mierda estado toman...</td>\n",
       "      <td>cada vez un poco má en la mierda he estado tom...</td>\n",
       "      <td>He estado tomando terapias psicologicas a espa...</td>\n",
       "      <td>Cada vez un poco más en la mierda He estado to...</td>\n",
       "      <td>1</td>\n",
       "    </tr>\n",
       "  </tbody>\n",
       "</table>\n",
       "</div>"
      ],
      "text/plain": [
       "                                       unst_simp_lem  \\\n",
       "0  add diagnosis recently got health insurance sa...   \n",
       "1                question tell loved one actually it   \n",
       "2  any good advice ive tried hard overcome depres...   \n",
       "3  am suffering depression feel unmotivated every...   \n",
       "4  cada vez un poco más en la mierda estado toman...   \n",
       "\n",
       "                                      unst_simp_stem  \\\n",
       "0  add diagnosi i recent got health insur and saw...   \n",
       "1  question what should i tell my love one when a...   \n",
       "2  ani good advic ive tri veri hard to overcom th...   \n",
       "3  am i suffer from depress i feel unmotiv in eve...   \n",
       "4  cada vez un poco má en la mierda he estado tom...   \n",
       "\n",
       "                                                body  \\\n",
       "0  I recently got health insurance and saw a psyc...   \n",
       "1  what should I tell my loved ones when and if I...   \n",
       "2  I've tried very hard to overcome this depressi...   \n",
       "3  I feel unmotivated in everything I do. I would...   \n",
       "4  He estado tomando terapias psicologicas a espa...   \n",
       "\n",
       "                                             alltext  label  \n",
       "0  ADD diagnosis??? I recently got health insuran...      0  \n",
       "1  question what should I tell my loved ones when...      1  \n",
       "2  Any Good Advice? Ive tried very hard to overco...      0  \n",
       "3  Am I suffering from depression? I feel unmotiv...      0  \n",
       "4  Cada vez un poco más en la mierda He estado to...      1  "
      ]
     },
     "execution_count": 29,
     "metadata": {},
     "output_type": "execute_result"
    }
   ],
   "source": [
    "df.head()"
   ]
  },
  {
   "cell_type": "markdown",
   "id": "1b9af7b8-4443-487a-9711-deefc49a2dfd",
   "metadata": {},
   "source": [
    "#### Additional Features for EDA\n",
    "\n",
    "Below, a few features having to do with title and post length are engineered and added to the dataframe to determine if things like word count differ significantly between the two subreddits being used for the model:"
   ]
  },
  {
   "cell_type": "code",
   "execution_count": 30,
   "id": "2e30df34-1e8d-4c19-8903-446b8175fd0a",
   "metadata": {},
   "outputs": [],
   "source": [
    "df['bodylength'] = df['body'].map(lambda x: len(x))"
   ]
  },
  {
   "cell_type": "markdown",
   "id": "d42c893d-3cac-41b9-ac56-eb677e7eb52e",
   "metadata": {},
   "source": [
    "Classes are fairly balanced:"
   ]
  },
  {
   "cell_type": "code",
   "execution_count": 31,
   "id": "08d096e2-426a-42c2-937d-1364ef59881f",
   "metadata": {},
   "outputs": [
    {
     "data": {
      "text/plain": [
       "1    0.52393\n",
       "0    0.47607\n",
       "Name: label, dtype: float64"
      ]
     },
     "execution_count": 31,
     "metadata": {},
     "output_type": "execute_result"
    }
   ],
   "source": [
    "df['label'].value_counts(normalize=True)"
   ]
  },
  {
   "cell_type": "code",
   "execution_count": 32,
   "id": "64e6b605-3ae3-4f4e-a96f-e0d55d6405d6",
   "metadata": {},
   "outputs": [],
   "source": [
    "df['textlength'] = df['alltext'].map(lambda x: len(x))"
   ]
  },
  {
   "cell_type": "code",
   "execution_count": 33,
   "id": "1faf6f7f-3872-4158-9e6a-13d322f058b2",
   "metadata": {},
   "outputs": [],
   "source": [
    "df['titlelength'] = df['textlength'] - (df['bodylength'] + 1)"
   ]
  },
  {
   "cell_type": "code",
   "execution_count": 48,
   "id": "32ac6ab5-7415-46f1-ae03-ca11c08851b2",
   "metadata": {},
   "outputs": [],
   "source": [
    "df['bodywordcount'] = df['body'].map(lambda x: len(x.split()))"
   ]
  },
  {
   "cell_type": "code",
   "execution_count": 43,
   "id": "8f12a60d-649c-4e6a-a814-d01814b00e38",
   "metadata": {},
   "outputs": [
    {
     "data": {
      "text/html": [
       "<div>\n",
       "<style scoped>\n",
       "    .dataframe tbody tr th:only-of-type {\n",
       "        vertical-align: middle;\n",
       "    }\n",
       "\n",
       "    .dataframe tbody tr th {\n",
       "        vertical-align: top;\n",
       "    }\n",
       "\n",
       "    .dataframe thead th {\n",
       "        text-align: right;\n",
       "    }\n",
       "</style>\n",
       "<table border=\"1\" class=\"dataframe\">\n",
       "  <thead>\n",
       "    <tr style=\"text-align: right;\">\n",
       "      <th></th>\n",
       "      <th>bodylength</th>\n",
       "      <th>textlength</th>\n",
       "      <th>titlelength</th>\n",
       "    </tr>\n",
       "  </thead>\n",
       "  <tbody>\n",
       "    <tr>\n",
       "      <th>0</th>\n",
       "      <td>1153</td>\n",
       "      <td>1166</td>\n",
       "      <td>12</td>\n",
       "    </tr>\n",
       "    <tr>\n",
       "      <th>1</th>\n",
       "      <td>65</td>\n",
       "      <td>74</td>\n",
       "      <td>8</td>\n",
       "    </tr>\n",
       "    <tr>\n",
       "      <th>2</th>\n",
       "      <td>1137</td>\n",
       "      <td>1138</td>\n",
       "      <td>0</td>\n",
       "    </tr>\n",
       "    <tr>\n",
       "      <th>3</th>\n",
       "      <td>1200</td>\n",
       "      <td>1229</td>\n",
       "      <td>28</td>\n",
       "    </tr>\n",
       "    <tr>\n",
       "      <th>4</th>\n",
       "      <td>2348</td>\n",
       "      <td>2382</td>\n",
       "      <td>33</td>\n",
       "    </tr>\n",
       "    <tr>\n",
       "      <th>...</th>\n",
       "      <td>...</td>\n",
       "      <td>...</td>\n",
       "      <td>...</td>\n",
       "    </tr>\n",
       "    <tr>\n",
       "      <th>641934</th>\n",
       "      <td>433</td>\n",
       "      <td>450</td>\n",
       "      <td>16</td>\n",
       "    </tr>\n",
       "    <tr>\n",
       "      <th>641935</th>\n",
       "      <td>771</td>\n",
       "      <td>802</td>\n",
       "      <td>30</td>\n",
       "    </tr>\n",
       "    <tr>\n",
       "      <th>641936</th>\n",
       "      <td>480</td>\n",
       "      <td>510</td>\n",
       "      <td>29</td>\n",
       "    </tr>\n",
       "    <tr>\n",
       "      <th>641937</th>\n",
       "      <td>2095</td>\n",
       "      <td>2097</td>\n",
       "      <td>1</td>\n",
       "    </tr>\n",
       "    <tr>\n",
       "      <th>641938</th>\n",
       "      <td>525</td>\n",
       "      <td>541</td>\n",
       "      <td>15</td>\n",
       "    </tr>\n",
       "  </tbody>\n",
       "</table>\n",
       "<p>641939 rows × 3 columns</p>\n",
       "</div>"
      ],
      "text/plain": [
       "        bodylength  textlength  titlelength\n",
       "0             1153        1166           12\n",
       "1               65          74            8\n",
       "2             1137        1138            0\n",
       "3             1200        1229           28\n",
       "4             2348        2382           33\n",
       "...            ...         ...          ...\n",
       "641934         433         450           16\n",
       "641935         771         802           30\n",
       "641936         480         510           29\n",
       "641937        2095        2097            1\n",
       "641938         525         541           15\n",
       "\n",
       "[641939 rows x 3 columns]"
      ]
     },
     "execution_count": 43,
     "metadata": {},
     "output_type": "execute_result"
    }
   ],
   "source": [
    "df[['bodylength', 'textlength', 'titlelength']]"
   ]
  },
  {
   "cell_type": "markdown",
   "id": "dcf64358-ab7a-4c3c-b628-e2f3f7343b5f",
   "metadata": {},
   "source": [
    "#### Some Initial Findings\n",
    "\n",
    "A few readouts suggest that the `depression` subreddit sees significantly longer posts than does the `SuicideWatch` subreddit, at least in general."
   ]
  },
  {
   "cell_type": "code",
   "execution_count": 44,
   "id": "3b15dea2-3afb-42fd-9b6c-b5f3f407e512",
   "metadata": {},
   "outputs": [
    {
     "data": {
      "text/plain": [
       "label\n",
       "0    1294.835165\n",
       "1    1043.392274\n",
       "Name: textlength, dtype: float64"
      ]
     },
     "execution_count": 44,
     "metadata": {},
     "output_type": "execute_result"
    }
   ],
   "source": [
    "df.groupby('label')['textlength'].mean()"
   ]
  },
  {
   "cell_type": "code",
   "execution_count": 45,
   "id": "5e006fba-fdad-451a-9907-4f183e95ff3b",
   "metadata": {},
   "outputs": [
    {
     "data": {
      "text/plain": [
       "label\n",
       "0    1260.326219\n",
       "1    1011.322700\n",
       "Name: bodylength, dtype: float64"
      ]
     },
     "execution_count": 45,
     "metadata": {},
     "output_type": "execute_result"
    }
   ],
   "source": [
    "df.groupby('label')['bodylength'].mean()"
   ]
  },
  {
   "cell_type": "code",
   "execution_count": 46,
   "id": "2e6a6940-aca0-4ea8-afcc-09fcc5c70bb4",
   "metadata": {},
   "outputs": [
    {
     "data": {
      "text/plain": [
       "label\n",
       "0    33.508946\n",
       "1    31.069574\n",
       "Name: titlelength, dtype: float64"
      ]
     },
     "execution_count": 46,
     "metadata": {},
     "output_type": "execute_result"
    }
   ],
   "source": [
    "df.groupby('label')['titlelength'].mean()"
   ]
  },
  {
   "cell_type": "code",
   "execution_count": 49,
   "id": "f4be63dc-8b37-4f42-bebb-36ad10e6602b",
   "metadata": {},
   "outputs": [
    {
     "data": {
      "text/plain": [
       "label\n",
       "0    241.467681\n",
       "1    195.993515\n",
       "Name: bodywordcount, dtype: float64"
      ]
     },
     "execution_count": 49,
     "metadata": {},
     "output_type": "execute_result"
    }
   ],
   "source": [
    "df.groupby('label')['bodywordcount'].mean()"
   ]
  },
  {
   "cell_type": "markdown",
   "id": "b0edc05c-481b-42d7-8b2f-77d87894fba5",
   "metadata": {},
   "source": [
    "The post length distribution is fairly similar for these subreddits, though shorter posts are more common in the `SuicideWatch` subreddit, as the histogram reflects:"
   ]
  },
  {
   "cell_type": "code",
   "execution_count": 69,
   "id": "f65d4da5-8342-42ce-aa30-5c9b0d26a39f",
   "metadata": {},
   "outputs": [
    {
     "name": "stderr",
     "output_type": "stream",
     "text": [
      "/Users/brianberry/opt/anaconda3/lib/python3.8/site-packages/seaborn/distributions.py:2557: FutureWarning: `distplot` is a deprecated function and will be removed in a future version. Please adapt your code to use either `displot` (a figure-level function with similar flexibility) or `histplot` (an axes-level function for histograms).\n",
      "  warnings.warn(msg, FutureWarning)\n",
      "/Users/brianberry/opt/anaconda3/lib/python3.8/site-packages/seaborn/distributions.py:2557: FutureWarning: `distplot` is a deprecated function and will be removed in a future version. Please adapt your code to use either `displot` (a figure-level function with similar flexibility) or `histplot` (an axes-level function for histograms).\n",
      "  warnings.warn(msg, FutureWarning)\n"
     ]
    },
    {
     "data": {
      "image/png": "[encoded data removed]",
      "text/plain": [
       "<Figure size 432x288 with 1 Axes>"
      ]
     },
     "metadata": {
      "needs_background": "light"
     },
     "output_type": "display_data"
    }
   ],
   "source": [
    "sns.distplot(df.query('label == 1')['bodywordcount'], bins=80, label='SuicideWatch')\n",
    "sns.distplot(df.query('label == 0')['bodywordcount'], bins=80, label='depression')\n",
    "plt.legend()\n",
    "plt.xlim(0, 1000)\n",
    "plt.show();"
   ]
  },
  {
   "cell_type": "markdown",
   "id": "cdc5f715-ac0b-4b2e-b627-aaf6567ffc5b",
   "metadata": {},
   "source": [
    "#### Keyword Frequencies\n",
    "\n",
    "Finally, a few readouts of relevant root word frequencies across the two subreddits. As it turns out, the stemmed data and the lemmatized data reflect the same proportions for the root words explored here. As might be expected, `suicid` and `depress` are more common in their \"home\" subreddits (or the subreddits specifically dedicated to each subject, respectively). Phrases `mental health` and `treatment` are more common in the `depression` subreddit."
   ]
  },
  {
   "cell_type": "code",
   "execution_count": 77,
   "id": "350fbb39-d28e-4c37-a296-983d4ac0d548",
   "metadata": {},
   "outputs": [
    {
     "name": "stdout",
     "output_type": "stream",
     "text": [
      "\"suicid\" in Lemmatized Text\n",
      " \n",
      "Number of mentions per 100 SuicideWatch posts:  52.01\n",
      "Number of mentions per 100 depression posts:  23.88\n"
     ]
    }
   ],
   "source": [
    "print('\"suicid\" in Lemmatized Text')\n",
    "print(' ')\n",
    "print('Number of mentions per 100 SuicideWatch posts: ', round(df.query('label == 1')['unst_simp_lem'].str.count('suicid').mean() * 100, 2))\n",
    "print('Number of mentions per 100 depression posts: ', round(df.query('label == 0')['unst_simp_lem'].str.count('suicid').mean() * 100, 2))"
   ]
  },
  {
   "cell_type": "code",
   "execution_count": 78,
   "id": "34f34452-08ec-461b-a69f-f81b2eb8b655",
   "metadata": {},
   "outputs": [
    {
     "name": "stdout",
     "output_type": "stream",
     "text": [
      "\"suicid\" in Stemmed Text\n",
      " \n",
      "Number of mentions per 100 SuicideWatch posts:  52.01\n",
      "Number of mentions per 100 depression posts:  23.88\n"
     ]
    }
   ],
   "source": [
    "print('\"suicid\" in Stemmed Text')\n",
    "print(' ')\n",
    "print('Number of mentions per 100 SuicideWatch posts: ', round(df.query('label == 1')['unst_simp_stem'].str.count('suicid').mean() * 100, 2))\n",
    "print('Number of mentions per 100 depression posts: ', round(df.query('label == 0')['unst_simp_stem'].str.count('suicid').mean() * 100, 2))"
   ]
  },
  {
   "cell_type": "code",
   "execution_count": 80,
   "id": "713f0b76-56eb-4e46-b6ab-2ed8937f6f49",
   "metadata": {},
   "outputs": [
    {
     "name": "stdout",
     "output_type": "stream",
     "text": [
      "\"depress\" in Lemmatized Text\n",
      " \n",
      "Number of mentions per 100 SuicideWatch posts:  36.96\n",
      "Number of mentions per 100 depression posts:  117.84\n"
     ]
    }
   ],
   "source": [
    "print('\"depress\" in Lemmatized Text')\n",
    "print(' ')\n",
    "print('Number of mentions per 100 SuicideWatch posts: ', round(df.query('label == 1')['unst_simp_lem'].str.count('depress').mean() * 100, 2))\n",
    "print('Number of mentions per 100 depression posts: ', round(df.query('label == 0')['unst_simp_lem'].str.count('depress').mean() * 100, 2))"
   ]
  },
  {
   "cell_type": "code",
   "execution_count": 81,
   "id": "072b6bac-b598-4898-ac2a-824033e8ab39",
   "metadata": {},
   "outputs": [
    {
     "name": "stdout",
     "output_type": "stream",
     "text": [
      "\"depress\" in Stemmed Text\n",
      " \n",
      "Number of mentions per 100 SuicideWatch posts:  36.96\n",
      "Number of mentions per 100 depression posts:  117.84\n"
     ]
    }
   ],
   "source": [
    "print('\"depress\" in Stemmed Text')\n",
    "print(' ')\n",
    "print('Number of mentions per 100 SuicideWatch posts: ', round(df.query('label == 1')['unst_simp_stem'].str.count('depress').mean() * 100, 2))\n",
    "print('Number of mentions per 100 depression posts: ', round(df.query('label == 0')['unst_simp_stem'].str.count('depress').mean() * 100, 2))"
   ]
  },
  {
   "cell_type": "code",
   "execution_count": 82,
   "id": "8b9156f1-9483-46ce-a429-d321f3ebf508",
   "metadata": {},
   "outputs": [
    {
     "name": "stdout",
     "output_type": "stream",
     "text": [
      "\"mental health\" in Lemmatized Text\n",
      " \n",
      "Number of mentions per 100 SuicideWatch posts:  0.01\n",
      "Number of mentions per 100 depression posts:  0.03\n"
     ]
    }
   ],
   "source": [
    "print('\"mental health\" in Lemmatized Text')\n",
    "print(' ')\n",
    "print('Number of mentions per 100 SuicideWatch posts: ', round(df.query('label == 1')['unst_simp_lem'].str.count('mentalhealth').mean() * 100, 2))\n",
    "print('Number of mentions per 100 depression posts: ', round(df.query('label == 0')['unst_simp_lem'].str.count('mentalhealth').mean() * 100, 2))"
   ]
  },
  {
   "cell_type": "code",
   "execution_count": 83,
   "id": "74d0e035-520f-4bc7-8532-87256d52deec",
   "metadata": {},
   "outputs": [
    {
     "name": "stdout",
     "output_type": "stream",
     "text": [
      "\"mental health\" in Stemmed Text\n",
      " \n",
      "Number of mentions per 100 SuicideWatch posts:  0.01\n",
      "Number of mentions per 100 depression posts:  0.03\n"
     ]
    }
   ],
   "source": [
    "print('\"mental health\" in Stemmed Text')\n",
    "print(' ')\n",
    "print('Number of mentions per 100 SuicideWatch posts: ', round(df.query('label == 1')['unst_simp_stem'].str.count('mentalhealth').mean() * 100, 2))\n",
    "print('Number of mentions per 100 depression posts: ', round(df.query('label == 0')['unst_simp_stem'].str.count('mentalhealth').mean() * 100, 2))"
   ]
  },
  {
   "cell_type": "code",
   "execution_count": 84,
   "id": "adc13fea-0c48-462c-9907-ace14c598f95",
   "metadata": {},
   "outputs": [
    {
     "name": "stdout",
     "output_type": "stream",
     "text": [
      "\"treatment\" in Lemmatized Text\n",
      " \n",
      "Number of mentions per 100 SuicideWatch posts:  1.86\n",
      "Number of mentions per 100 depression posts:  2.84\n"
     ]
    }
   ],
   "source": [
    "print('\"treatment\" in Lemmatized Text')\n",
    "print(' ')\n",
    "print('Number of mentions per 100 SuicideWatch posts: ', round(df.query('label == 1')['unst_simp_lem'].str.count('treatment').mean() * 100, 2))\n",
    "print('Number of mentions per 100 depression posts: ', round(df.query('label == 0')['unst_simp_lem'].str.count('treatment').mean() * 100, 2))"
   ]
  }
 ],
 "metadata": {
  "kernelspec": {
   "display_name": "Python 3",
   "language": "python",
   "name": "python3"
  },
  "language_info": {
   "codemirror_mode": {
    "name": "ipython",
    "version": 3
   },
   "file_extension": ".py",
   "mimetype": "text/x-python",
   "name": "python",
   "nbconvert_exporter": "python",
   "pygments_lexer": "ipython3",
   "version": "3.8.8"
  }
 },
 "nbformat": 4,
 "nbformat_minor": 5
}
