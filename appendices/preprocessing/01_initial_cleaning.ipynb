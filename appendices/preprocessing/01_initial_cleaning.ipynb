{
 "cells": [
  {
   "cell_type": "code",
   "execution_count": 1,
   "id": "996f8749-26b6-4442-92b5-9549382a6954",
   "metadata": {},
   "outputs": [],
   "source": [
    "import pandas as pd\n",
    "import re\n",
    "from nltk.tokenize import RegexpTokenizer\n",
    "from nltk.corpus import stopwords\n",
    "from nltk.stem import WordNetLemmatizer, PorterStemmer"
   ]
  },
  {
   "cell_type": "code",
   "execution_count": 2,
   "id": "68e22ead-6a52-4369-8005-8e8bcd68ca21",
   "metadata": {},
   "outputs": [
    {
     "name": "stderr",
     "output_type": "stream",
     "text": [
      "/Users/brianberry/opt/anaconda3/lib/python3.8/site-packages/IPython/core/interactiveshell.py:3165: DtypeWarning: Columns (0,1,2,3,4,5,6,7) have mixed types.Specify dtype option on import or set low_memory=False.\n",
      "  has_raised = await self.run_ast_nodes(code_ast.body, cell_name,\n"
     ]
    }
   ],
   "source": [
    "df = pd.read_csv('../../datasets/source_data.csv')"
   ]
  },
  {
   "cell_type": "code",
   "execution_count": 3,
   "id": "396a2c93-3a12-4334-8bef-9c54eff34d68",
   "metadata": {},
   "outputs": [
    {
     "data": {
      "text/plain": [
       "Post_id                  65537\n",
       "Title                    65555\n",
       "Body                     65555\n",
       "Score                   105962\n",
       "Publish_date            105962\n",
       "Total_no_of_comments    105963\n",
       "Over_18                 105983\n",
       "Subreddit               105983\n",
       "dtype: int64"
      ]
     },
     "execution_count": 3,
     "metadata": {},
     "output_type": "execute_result"
    }
   ],
   "source": [
    "df.isnull().sum()"
   ]
  },
  {
   "cell_type": "code",
   "execution_count": 4,
   "id": "ebfea292-d5c4-4820-8b8c-53a5309c712f",
   "metadata": {},
   "outputs": [
    {
     "data": {
      "text/plain": [
       "Post_id                 0\n",
       "Title                   0\n",
       "Body                    0\n",
       "Score                   0\n",
       "Publish_date            0\n",
       "Total_no_of_comments    0\n",
       "Over_18                 0\n",
       "Subreddit               0\n",
       "dtype: int64"
      ]
     },
     "execution_count": 4,
     "metadata": {},
     "output_type": "execute_result"
    }
   ],
   "source": [
    "df[df['Subreddit'].notnull()].isnull().sum()"
   ]
  },
  {
   "cell_type": "code",
   "execution_count": 5,
   "id": "10c399d5-e2d8-440e-b79b-ae2deee943c8",
   "metadata": {},
   "outputs": [],
   "source": [
    "df = df[df['Subreddit'].notnull()]"
   ]
  },
  {
   "cell_type": "code",
   "execution_count": 6,
   "id": "6d590ab9-e138-4252-8e19-7eda4b5c92d4",
   "metadata": {},
   "outputs": [
    {
     "name": "stdout",
     "output_type": "stream",
     "text": [
      "<class 'pandas.core.frame.DataFrame'>\n",
      "Int64Index: 641954 entries, 0 to 747936\n",
      "Data columns (total 8 columns):\n",
      " #   Column                Non-Null Count   Dtype \n",
      "---  ------                --------------   ----- \n",
      " 0   Post_id               641954 non-null  object\n",
      " 1   Title                 641954 non-null  object\n",
      " 2   Body                  641954 non-null  object\n",
      " 3   Score                 641954 non-null  object\n",
      " 4   Publish_date          641954 non-null  object\n",
      " 5   Total_no_of_comments  641954 non-null  object\n",
      " 6   Over_18               641954 non-null  object\n",
      " 7   Subreddit             641954 non-null  object\n",
      "dtypes: object(8)\n",
      "memory usage: 44.1+ MB\n"
     ]
    }
   ],
   "source": [
    "df.info()"
   ]
  },
  {
   "cell_type": "code",
   "execution_count": 7,
   "id": "2fcc25c5-0d59-4c4e-b8d8-8441212218c6",
   "metadata": {},
   "outputs": [],
   "source": [
    "df['Score'] = df['Score'].astype(int)\n",
    "df['Total_no_of_comments'] = df['Total_no_of_comments'].astype(int)"
   ]
  },
  {
   "cell_type": "code",
   "execution_count": 8,
   "id": "2f4fc701-989a-4b35-8fe4-dbe98857d7dc",
   "metadata": {},
   "outputs": [
    {
     "data": {
      "text/plain": [
       "False    640890\n",
       "True       1064\n",
       "Name: Over_18, dtype: int64"
      ]
     },
     "execution_count": 8,
     "metadata": {},
     "output_type": "execute_result"
    }
   ],
   "source": [
    "df['Over_18'].value_counts()"
   ]
  },
  {
   "cell_type": "code",
   "execution_count": 9,
   "id": "479b465a-0505-42a6-98f4-756dd73dac62",
   "metadata": {},
   "outputs": [],
   "source": [
    "df['Over_18'] = df['Over_18'].astype(int)"
   ]
  },
  {
   "cell_type": "code",
   "execution_count": 10,
   "id": "fb449c4a-af0e-42a2-872b-80612b48887a",
   "metadata": {},
   "outputs": [
    {
     "data": {
      "text/plain": [
       "0    640890\n",
       "1      1064\n",
       "Name: Over_18, dtype: int64"
      ]
     },
     "execution_count": 10,
     "metadata": {},
     "output_type": "execute_result"
    }
   ],
   "source": [
    "df['Over_18'].value_counts()"
   ]
  },
  {
   "cell_type": "code",
   "execution_count": 11,
   "id": "b35dd65c-5d41-4f8e-a6ab-7df78c11f83c",
   "metadata": {},
   "outputs": [
    {
     "data": {
      "text/plain": [
       "SuicideWatch    336344\n",
       "depression      305610\n",
       "Name: Subreddit, dtype: int64"
      ]
     },
     "execution_count": 11,
     "metadata": {},
     "output_type": "execute_result"
    }
   ],
   "source": [
    "df['Subreddit'].value_counts()"
   ]
  },
  {
   "cell_type": "code",
   "execution_count": 12,
   "id": "6810fa1f-2010-4b3d-94c2-2a6cf6570858",
   "metadata": {},
   "outputs": [],
   "source": [
    "df['Subreddit'] = df['Subreddit'].map({'SuicideWatch': 1, 'depression': 0})"
   ]
  },
  {
   "cell_type": "code",
   "execution_count": 13,
   "id": "83168c25-b951-40e4-836a-f84df79003f1",
   "metadata": {},
   "outputs": [
    {
     "data": {
      "text/plain": [
       "1    336344\n",
       "0    305610\n",
       "Name: Subreddit, dtype: int64"
      ]
     },
     "execution_count": 13,
     "metadata": {},
     "output_type": "execute_result"
    }
   ],
   "source": [
    "df['Subreddit'].value_counts()"
   ]
  },
  {
   "cell_type": "code",
   "execution_count": 14,
   "id": "e311d329-0154-430a-afe0-5e6a27a7a052",
   "metadata": {},
   "outputs": [
    {
     "data": {
      "text/html": [
       "<div>\n",
       "<style scoped>\n",
       "    .dataframe tbody tr th:only-of-type {\n",
       "        vertical-align: middle;\n",
       "    }\n",
       "\n",
       "    .dataframe tbody tr th {\n",
       "        vertical-align: top;\n",
       "    }\n",
       "\n",
       "    .dataframe thead th {\n",
       "        text-align: right;\n",
       "    }\n",
       "</style>\n",
       "<table border=\"1\" class=\"dataframe\">\n",
       "  <thead>\n",
       "    <tr style=\"text-align: right;\">\n",
       "      <th></th>\n",
       "      <th>Post_id</th>\n",
       "      <th>Title</th>\n",
       "      <th>Body</th>\n",
       "      <th>Score</th>\n",
       "      <th>Publish_date</th>\n",
       "      <th>Total_no_of_comments</th>\n",
       "      <th>Over_18</th>\n",
       "      <th>Subreddit</th>\n",
       "    </tr>\n",
       "  </thead>\n",
       "  <tbody>\n",
       "  </tbody>\n",
       "</table>\n",
       "</div>"
      ],
      "text/plain": [
       "Empty DataFrame\n",
       "Columns: [Post_id, Title, Body, Score, Publish_date, Total_no_of_comments, Over_18, Subreddit]\n",
       "Index: []"
      ]
     },
     "execution_count": 14,
     "metadata": {},
     "output_type": "execute_result"
    }
   ],
   "source": [
    "df[df['Body'] == '[removed]']"
   ]
  },
  {
   "cell_type": "code",
   "execution_count": 15,
   "id": "e010a219-a879-4c44-8917-4314bda7651b",
   "metadata": {},
   "outputs": [
    {
     "data": {
      "text/html": [
       "<div>\n",
       "<style scoped>\n",
       "    .dataframe tbody tr th:only-of-type {\n",
       "        vertical-align: middle;\n",
       "    }\n",
       "\n",
       "    .dataframe tbody tr th {\n",
       "        vertical-align: top;\n",
       "    }\n",
       "\n",
       "    .dataframe thead th {\n",
       "        text-align: right;\n",
       "    }\n",
       "</style>\n",
       "<table border=\"1\" class=\"dataframe\">\n",
       "  <thead>\n",
       "    <tr style=\"text-align: right;\">\n",
       "      <th></th>\n",
       "      <th>Post_id</th>\n",
       "      <th>Title</th>\n",
       "      <th>Body</th>\n",
       "      <th>Score</th>\n",
       "      <th>Publish_date</th>\n",
       "      <th>Total_no_of_comments</th>\n",
       "      <th>Over_18</th>\n",
       "      <th>Subreddit</th>\n",
       "    </tr>\n",
       "  </thead>\n",
       "  <tbody>\n",
       "  </tbody>\n",
       "</table>\n",
       "</div>"
      ],
      "text/plain": [
       "Empty DataFrame\n",
       "Columns: [Post_id, Title, Body, Score, Publish_date, Total_no_of_comments, Over_18, Subreddit]\n",
       "Index: []"
      ]
     },
     "execution_count": 15,
     "metadata": {},
     "output_type": "execute_result"
    }
   ],
   "source": [
    "df[df['Body'] == '[deleted]']"
   ]
  },
  {
   "cell_type": "code",
   "execution_count": 16,
   "id": "76194f39-e312-4bf6-8a68-dc9c6bc06397",
   "metadata": {},
   "outputs": [],
   "source": [
    "df.drop(columns = ['Publish_date'], axis=1, inplace = True)"
   ]
  },
  {
   "cell_type": "code",
   "execution_count": 17,
   "id": "0f64c43f-43e6-43ba-93c4-b33d856f2dc7",
   "metadata": {},
   "outputs": [],
   "source": [
    "df['alltext'] = df['Title'] + ' ' + df['Body']"
   ]
  },
  {
   "cell_type": "code",
   "execution_count": 18,
   "id": "893f6198-0fec-4718-82ff-e724edaf20da",
   "metadata": {},
   "outputs": [],
   "source": [
    "df['alltext'] = df['alltext'].str.replace('\\n', ' ')\n",
    "df['alltext'] = df['alltext'].str.replace('\\t', ' ')\n",
    "df['alltext'] = df['alltext'].str.replace('\\r', ' ')\n",
    "df['alltext'] = df['alltext'].str.replace(\"\\'\", \"\")\n",
    "df['alltext'] = df['alltext'].str.replace('\"', ' ')\n",
    "df['alltext'] = df['alltext'].str.replace('&gt', '>')\n",
    "df['alltext'] = df['alltext'].str.replace('&ge', '>=')\n",
    "df['alltext'] = df['alltext'].str.replace('&lt', '<')\n",
    "df['alltext'] = df['alltext'].str.replace('&le', '<=')\n",
    "df['alltext'] = df['alltext'].map(lambda x: re.sub(r\"http\\S+\", \"\", x))"
   ]
  },
  {
   "cell_type": "code",
   "execution_count": 19,
   "id": "d5959fe3-8f94-4416-b3df-372a00c0ee8f",
   "metadata": {},
   "outputs": [],
   "source": [
    "df['lowtext'] = df['alltext'].str.lower()"
   ]
  },
  {
   "cell_type": "code",
   "execution_count": 21,
   "id": "f7bd2d21-f4d2-4353-9cb6-9e0933dcc8f9",
   "metadata": {},
   "outputs": [],
   "source": [
    "pd.DataFrame(df['lowtext']).to_csv('../../datasets/low_text.csv', index = False)"
   ]
  },
  {
   "cell_type": "code",
   "execution_count": 22,
   "id": "a2cbdb48-2aa8-45ce-8a99-d8a8a84287d0",
   "metadata": {},
   "outputs": [],
   "source": [
    "df['unstopped'] = df['lowtext']\n",
    "\n",
    "for word in stopwords.words('english'):\n",
    "    df['unstopped'] = df['unstopped'].str.replace(' ' + word + ' ', ' ')"
   ]
  },
  {
   "cell_type": "code",
   "execution_count": 23,
   "id": "d93d967a-f127-4e66-8e02-08482d367cba",
   "metadata": {},
   "outputs": [
    {
     "data": {
      "text/html": [
       "<div>\n",
       "<style scoped>\n",
       "    .dataframe tbody tr th:only-of-type {\n",
       "        vertical-align: middle;\n",
       "    }\n",
       "\n",
       "    .dataframe tbody tr th {\n",
       "        vertical-align: top;\n",
       "    }\n",
       "\n",
       "    .dataframe thead th {\n",
       "        text-align: right;\n",
       "    }\n",
       "</style>\n",
       "<table border=\"1\" class=\"dataframe\">\n",
       "  <thead>\n",
       "    <tr style=\"text-align: right;\">\n",
       "      <th></th>\n",
       "      <th>Post_id</th>\n",
       "      <th>Title</th>\n",
       "      <th>Body</th>\n",
       "      <th>Score</th>\n",
       "      <th>Total_no_of_comments</th>\n",
       "      <th>Over_18</th>\n",
       "      <th>Subreddit</th>\n",
       "      <th>alltext</th>\n",
       "      <th>lowtext</th>\n",
       "      <th>unstopped</th>\n",
       "    </tr>\n",
       "  </thead>\n",
       "  <tbody>\n",
       "    <tr>\n",
       "      <th>0</th>\n",
       "      <td>4my6mq</td>\n",
       "      <td>ADD diagnosis???</td>\n",
       "      <td>I recently got health insurance and saw a psyc...</td>\n",
       "      <td>1</td>\n",
       "      <td>1</td>\n",
       "      <td>0</td>\n",
       "      <td>0</td>\n",
       "      <td>ADD diagnosis??? I recently got health insuran...</td>\n",
       "      <td>add diagnosis??? i recently got health insuran...</td>\n",
       "      <td>add diagnosis??? recently got health insurance...</td>\n",
       "    </tr>\n",
       "    <tr>\n",
       "      <th>1</th>\n",
       "      <td>eu31rt</td>\n",
       "      <td>question</td>\n",
       "      <td>what should I tell my loved ones when and if I...</td>\n",
       "      <td>1</td>\n",
       "      <td>1</td>\n",
       "      <td>0</td>\n",
       "      <td>1</td>\n",
       "      <td>question what should I tell my loved ones when...</td>\n",
       "      <td>question what should i tell my loved ones when...</td>\n",
       "      <td>question tell loved ones actually it?</td>\n",
       "    </tr>\n",
       "    <tr>\n",
       "      <th>2</th>\n",
       "      <td>75mnpg</td>\n",
       "      <td>Any Good Advice?</td>\n",
       "      <td>I've tried very hard to overcome this depressi...</td>\n",
       "      <td>6</td>\n",
       "      <td>2</td>\n",
       "      <td>0</td>\n",
       "      <td>0</td>\n",
       "      <td>Any Good Advice? Ive tried very hard to overco...</td>\n",
       "      <td>any good advice? ive tried very hard to overco...</td>\n",
       "      <td>any good advice? ive tried hard overcome depre...</td>\n",
       "    </tr>\n",
       "    <tr>\n",
       "      <th>3</th>\n",
       "      <td>230ip1</td>\n",
       "      <td>Am I suffering from depression?</td>\n",
       "      <td>I feel unmotivated in everything I do. I would...</td>\n",
       "      <td>1</td>\n",
       "      <td>3</td>\n",
       "      <td>0</td>\n",
       "      <td>0</td>\n",
       "      <td>Am I suffering from depression? I feel unmotiv...</td>\n",
       "      <td>am i suffering from depression? i feel unmotiv...</td>\n",
       "      <td>am suffering depression? feel unmotivated ever...</td>\n",
       "    </tr>\n",
       "    <tr>\n",
       "      <th>4</th>\n",
       "      <td>ihooit</td>\n",
       "      <td>Cada vez un poco más en la mierda</td>\n",
       "      <td>He estado tomando terapias psicologicas a espa...</td>\n",
       "      <td>1</td>\n",
       "      <td>4</td>\n",
       "      <td>0</td>\n",
       "      <td>1</td>\n",
       "      <td>Cada vez un poco más en la mierda He estado to...</td>\n",
       "      <td>cada vez un poco más en la mierda he estado to...</td>\n",
       "      <td>cada vez un poco más en la mierda estado toman...</td>\n",
       "    </tr>\n",
       "  </tbody>\n",
       "</table>\n",
       "</div>"
      ],
      "text/plain": [
       "  Post_id                              Title  \\\n",
       "0  4my6mq                   ADD diagnosis???   \n",
       "1  eu31rt                           question   \n",
       "2  75mnpg                   Any Good Advice?   \n",
       "3  230ip1    Am I suffering from depression?   \n",
       "4  ihooit  Cada vez un poco más en la mierda   \n",
       "\n",
       "                                                Body  Score  \\\n",
       "0  I recently got health insurance and saw a psyc...      1   \n",
       "1  what should I tell my loved ones when and if I...      1   \n",
       "2  I've tried very hard to overcome this depressi...      6   \n",
       "3  I feel unmotivated in everything I do. I would...      1   \n",
       "4  He estado tomando terapias psicologicas a espa...      1   \n",
       "\n",
       "   Total_no_of_comments  Over_18  Subreddit  \\\n",
       "0                     1        0          0   \n",
       "1                     1        0          1   \n",
       "2                     2        0          0   \n",
       "3                     3        0          0   \n",
       "4                     4        0          1   \n",
       "\n",
       "                                             alltext  \\\n",
       "0  ADD diagnosis??? I recently got health insuran...   \n",
       "1  question what should I tell my loved ones when...   \n",
       "2  Any Good Advice? Ive tried very hard to overco...   \n",
       "3  Am I suffering from depression? I feel unmotiv...   \n",
       "4  Cada vez un poco más en la mierda He estado to...   \n",
       "\n",
       "                                             lowtext  \\\n",
       "0  add diagnosis??? i recently got health insuran...   \n",
       "1  question what should i tell my loved ones when...   \n",
       "2  any good advice? ive tried very hard to overco...   \n",
       "3  am i suffering from depression? i feel unmotiv...   \n",
       "4  cada vez un poco más en la mierda he estado to...   \n",
       "\n",
       "                                           unstopped  \n",
       "0  add diagnosis??? recently got health insurance...  \n",
       "1              question tell loved ones actually it?  \n",
       "2  any good advice? ive tried hard overcome depre...  \n",
       "3  am suffering depression? feel unmotivated ever...  \n",
       "4  cada vez un poco más en la mierda estado toman...  "
      ]
     },
     "execution_count": 23,
     "metadata": {},
     "output_type": "execute_result"
    }
   ],
   "source": [
    "df.head()"
   ]
  },
  {
   "cell_type": "code",
   "execution_count": 24,
   "id": "68bcc891-b0e7-408c-9e9b-f92a078a3460",
   "metadata": {},
   "outputs": [],
   "source": [
    "pd.DataFrame(df['unstopped']).to_csv('../../datasets/unstopped_text.csv', index = False)"
   ]
  },
  {
   "cell_type": "code",
   "execution_count": 25,
   "id": "7eccc54f-2e91-4a93-a848-ee4ed0a70f67",
   "metadata": {},
   "outputs": [],
   "source": [
    "df.to_csv('../../datasets/lower_and_unstopped.csv', index = False)"
   ]
  },
  {
   "cell_type": "code",
   "execution_count": null,
   "id": "7ee48fcf-5594-42cf-a4d3-c0022cbffcf0",
   "metadata": {},
   "outputs": [],
   "source": []
  }
 ],
 "metadata": {
  "kernelspec": {
   "display_name": "Python 3",
   "language": "python",
   "name": "python3"
  },
  "language_info": {
   "codemirror_mode": {
    "name": "ipython",
    "version": 3
   },
   "file_extension": ".py",
   "mimetype": "text/x-python",
   "name": "python",
   "nbconvert_exporter": "python",
   "pygments_lexer": "ipython3",
   "version": "3.8.8"
  }
 },
 "nbformat": 4,
 "nbformat_minor": 5
}
