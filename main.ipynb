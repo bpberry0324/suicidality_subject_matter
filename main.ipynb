{
 "cells": [
  {
   "cell_type": "markdown",
   "metadata": {
    "id": "d5EjUM2EKoVL"
   },
   "source": [
    "# On Suicidality Subject Matter Detection\n",
    "\n",
    "The purpose of this study is to create a predictive model that assesses text and detects in its subject matter content that relates to suicidality, and to examine the ways in which the results can facilitate analysis and prevention."
   ]
  },
  {
   "cell_type": "markdown",
   "metadata": {
    "id": "eWEnySMMLQ_n"
   },
   "source": [
    "### Table of Contents:\n",
    "\n",
    "- Part I: Introduction\n",
    "- Part II: Preprocessing Summary\n",
    "- Part III: EDA Summary\n",
    "- Part IV: Predictive Model and Relevant Findings\n",
    "- Part V: Streamlit Application\n",
    "- Part VI: Conclusion"
   ]
  },
  {
   "cell_type": "markdown",
   "metadata": {
    "id": "XUdu8YWhLs41"
   },
   "source": [
    "## Part I: Introduction\n",
    "\n",
    "While sufferers of depression are not and must not be assumed inherently suicidal, it can often serve as a contributing cause in suicidality. Thus, questions arise: Can reliable means be developed to detect distinctions between subject matter authored by sufferers of depression or that remains within the threshold of depression and subject matter that crosses a threshold into suicidality, or at least whose focus is suicidality? What would such means looks like, and to what uses might we use them? Most importantly, how might the development and improvement of such detection aid in future suicide prevention?\n",
    "\n",
    "This study aims primarily to lay a foundation for answering these questions by developing a functional predictive model that can distinguish reliably between text bodies on either side of this threshold (i.e. depression and suicidality) and to allow the findings and corrollary Streamlit application to act as a stepping stone for further inquiry.\n",
    "\n",
    "It must be stated that nothing within this study ought to be taken as the equivalent of or a substitute for real licensed medical treatment. \n",
    "\n",
    "During the course of this project, the data (consisting of text posts collected by Nikhileswar Komati from `r/SuicideWatch` and `r/depression` using the PushShift API) was fit to many binary classification models, in a variety of forms, or having undergone a variety of different \"versions\" of preprocessing. Though the initial plan was to employ two final models (one for interpretability and on for sheer predictive power), in the end the model that proved the most accurate also lends itself more than the others to actionable interpretation. More on this model can be found below.\n"
   ]
  },
  {
   "cell_type": "markdown",
   "metadata": {
    "id": "EcnU6wVFReE2"
   },
   "source": [
    "## Part II: Preprocessing Summary\n",
    "\n",
    "The notebooks in which preprocessing work was done for this project can be found in `appendices/preprocessing/`, but a brief summary will be offered here. The initial dataset used is a collection of over 700,000 combined entries from the `r/SuicideWatch` and `r/depression` subreddits, gathered by user Nikhileswar Komati using the PushShift API.\n",
    "\n",
    "First, relevant text data was combined and parsed, with null entries being removed due to the large size of the dataset. The target column (`Subreddit`) was converted to a binary integer column for modeling purposes, and after parsing the text of problematic characters, it was converted separately to two separate feature columns (`lower`, or the combined text made lower case, and `unstopped`, identical to the `lower` column but with English stopwords removed).\n",
    "\n",
    "These steps are recorded in `01_initial_cleaning.ipynb` of the forementioned directory and subdirectory.\n",
    "\n",
    "What followed was a great effort to create multiple forms of each text, with each form serving as a potential feature, so that all versions could see the modeling phase and the one that offered the best accuracy could be used in the final model. Ultimately, eight different versions of the text data were created:\n",
    "\n",
    "- words only, made lowercase, lemmatized\n",
    "- words only, made lowercase, stemmed\n",
    "- words made lowercase and potentially significant digits, lemmatized\n",
    "- words made lowercase and potentially significant digits, stemmed\n",
    "- words only with English stopwords removed, made lowercase, lemmatized\n",
    "- words only with English stopwords removed, made lowercase, stemmed\n",
    "- words made lowercase (with English stopwords removed) and potentially significant digits, lemmatized\n",
    "- words made lowercase (with English stopwords removed) and potentially significant digits, stemmed\n",
    "\n",
    "The generation of these features is again recorded in `appendices/preprocessing/`, in the following notebooks:\n",
    "\n",
    "- `02_cleaning_lower_lemm.ipynb`\n",
    "- `03_cleaning_unstopped_lemm.ipynb`\n",
    "- `04_cleaning_lower_stem.ipynb`\n",
    "- `05_cleaning_unstopped_stem.ipynb`\n",
    "\n",
    "The notebook that records exploratory analysis for this project is `06_initial_eda.ipynb`, and of the eight notebooks in. the `preprocessing` subdirectory, it is the one that stands out as having markdown included for explanation. (The other notebooks are largely self-explanatory, with very simple code actions taken, and what little explanation is necessary is offered here).\n",
    "\n",
    "As the exploratory phase is best treated separately from initial cleaning, more notes on this notebook are included below.\n",
    "\n",
    "With the eight features (or eight versions of the same feature) created, it became most reasonable to combine them into a single dataset, and this was done in `07_full_dataset.ipynb`. The file that gets exported in the last cell is the most robust and comprehensive version of the relevant data for this project. However, because of its sheer size, computational limits and RAM limits made it necessary in the early stages of modeling to down sample significantly, and the significantly smaller (though still large) down-sampled dataset was created in `08_down_sample.ipynb`. This ultimately became the \"official\" dataset of the modeling phase."
   ]
  },
  {
   "cell_type": "markdown",
   "metadata": {
    "id": "JYj2-GfdXKtN"
   },
   "source": [
    "## Part III: EDA\n",
    "\n",
    "The exploratory phase of this study was done for the most part in conjunction with the projects first check-in deadline, and for that reason, the relevant notebook (`06_initial_eda.ipynb`) is marked down in great deal with what was discovered. Very briefly though, the most notable finding was the significantly shorter length of posts to `r/SuicideWatch` on average than to `r/depression`. Both in terms of word count and character count, posts to `r/depression` were roughly 10 to 20% longer than posts to `r/SuicideWatch`. What this might mean could invite further inquiry as part of a future project."
   ]
  },
  {
   "cell_type": "markdown",
   "metadata": {
    "id": "tNvIa_R8YV8_"
   },
   "source": [
    "## Part IV: Predictive Model and Relevant Findings\n",
    "\n",
    "Many versions of the data were fit to many models. The directory `appendices/modeling` contains over twenty notebooks whose shared purpose was simply to find the best model for the best version of the available data to obtain the most reliable results possible.\n",
    "\n",
    "All eight versions of the preprocess text data were fit. Models included logistic regression, Gradient Boosting, AdaBoost, random forests, multinomial naive Bayes, Bernoulli naive Bayes, and neural networks. The running of these models, their scores and outputs can be found in notebooks `01` through `13` of the `modeling` subdirectory. \n",
    "\n",
    "Toward the end of the modeling phase, high training scores for random forests and neural networks led to more extensive attempts at fine-tuning, to see if this or that combination of hyperparameters might give the test data a significant jump. (See `14` through `19` in `modeling`.) Ultimately though, logistic regression outperformed these and all the others, making it the strongest model of all both for predictive capacity and interpretability. \n",
    "\n",
    "Due to RAM limitations, gridsearching multiple vectorized dataframes to fine-tune the final logistic regression model was not feasible. This led to testing hyperparameter combinations for vectorizing the text one at a time and finally settling on the best result. (See `20` in `modeling`.) Finally, the final polishing of the logistic regression parameters is found in `21` of `modeling`, and in the end, the default variables gave the best score for the test data.\n",
    "\n",
    "Initial imports:"
   ]
  },
  {
   "cell_type": "code",
   "execution_count": 1,
   "metadata": {
    "id": "Ini6jVq_Ka3G"
   },
   "outputs": [],
   "source": [
    "import pandas as pd\n",
    "import numpy as np\n",
    "from sklearn.feature_extraction.text import CountVectorizer, TfidfVectorizer\n",
    "from sklearn.model_selection import train_test_split, cross_val_score\n",
    "from sklearn.metrics import confusion_matrix, ConfusionMatrixDisplay\n",
    "from sklearn.linear_model import LogisticRegression"
   ]
  },
  {
   "cell_type": "markdown",
   "metadata": {
    "id": "VmDm_UyObZxB"
   },
   "source": [
    "Mounting drive:"
   ]
  },
  {
   "cell_type": "code",
   "execution_count": 2,
   "metadata": {
    "colab": {
     "base_uri": "https://localhost:8080/"
    },
    "id": "MlHY4Lh3bYlD",
    "outputId": "df80e4f3-51ae-4c45-d9ef-827ed0b6025b"
   },
   "outputs": [
    {
     "name": "stdout",
     "output_type": "stream",
     "text": [
      "Mounted at /content/drive\n"
     ]
    }
   ],
   "source": [
    "from google.colab import drive\n",
    "drive.mount('/content/drive')"
   ]
  },
  {
   "cell_type": "markdown",
   "metadata": {
    "id": "mbpuGDMobjH6"
   },
   "source": [
    "Reading in dataset. The best-performing version of the text data proved to be words-only, lemmatized, with English stopwords removed:"
   ]
  },
  {
   "cell_type": "code",
   "execution_count": 3,
   "metadata": {
    "id": "zoryEiWZbcDV"
   },
   "outputs": [],
   "source": [
    "df = pd.read_csv('/content/drive/MyDrive/down_sample.csv')[['Subreddit', 'unst_simp_lem']]"
   ]
  },
  {
   "cell_type": "markdown",
   "metadata": {
    "id": "KYZJ7NRub1qf"
   },
   "source": [
    "Divvying input and output columns:"
   ]
  },
  {
   "cell_type": "code",
   "execution_count": 4,
   "metadata": {
    "id": "iI0cmVmEbwdc"
   },
   "outputs": [],
   "source": [
    "X = df.drop(columns='Subreddit')\n",
    "y = df['Subreddit']\n",
    "\n",
    "X_train, X_test, y_train, y_test=train_test_split(X, y, stratify = y, random_state=42)"
   ]
  },
  {
   "cell_type": "markdown",
   "metadata": {
    "id": "lcMwxBWYcDVd"
   },
   "source": [
    "`TfidfVectorizer` proved the most accurate. Vectorization below, with best hyperparameters included:"
   ]
  },
  {
   "cell_type": "code",
   "execution_count": 5,
   "metadata": {
    "id": "iHoDbjIub5ao"
   },
   "outputs": [],
   "source": [
    "tvec = TfidfVectorizer(min_df=5, max_df=0.80, ngram_range=(1,3))\n",
    "tvec.fit(X_train['unst_simp_lem'])\n",
    "X_train_tv = pd.DataFrame(tvec.transform(X_train['unst_simp_lem']).todense(), columns = tvec.get_feature_names())\n",
    "X_test_tv = pd.DataFrame(tvec.transform(X_test['unst_simp_lem']).todense(), columns = tvec.get_feature_names())"
   ]
  },
  {
   "cell_type": "markdown",
   "metadata": {
    "id": "d7PZv6t6cedL"
   },
   "source": [
    "Model instantiated and fit in the cells that follow. Again, as it turned out, the default hyperparameter settings offered the highest test score:"
   ]
  },
  {
   "cell_type": "code",
   "execution_count": 6,
   "metadata": {
    "id": "8Zj1fQm2cL8A"
   },
   "outputs": [],
   "source": [
    "lr = LogisticRegression()"
   ]
  },
  {
   "cell_type": "code",
   "execution_count": 7,
   "metadata": {
    "colab": {
     "base_uri": "https://localhost:8080/"
    },
    "id": "UzhYeaXpcdeB",
    "outputId": "a4d14a87-1981-4d6e-dd31-a0064a69dc60"
   },
   "outputs": [
    {
     "data": {
      "text/plain": [
       "LogisticRegression(C=1.0, class_weight=None, dual=False, fit_intercept=True,\n",
       "                   intercept_scaling=1, l1_ratio=None, max_iter=100,\n",
       "                   multi_class='auto', n_jobs=None, penalty='l2',\n",
       "                   random_state=None, solver='lbfgs', tol=0.0001, verbose=0,\n",
       "                   warm_start=False)"
      ]
     },
     "execution_count": 7,
     "metadata": {},
     "output_type": "execute_result"
    }
   ],
   "source": [
    "lr.fit(X_train_tv, y_train)"
   ]
  },
  {
   "cell_type": "code",
   "execution_count": 8,
   "metadata": {
    "colab": {
     "base_uri": "https://localhost:8080/"
    },
    "id": "Gq_UFDfYcxmq",
    "outputId": "6720c7d0-4dea-4bb5-bcc6-150bbccacd86"
   },
   "outputs": [
    {
     "data": {
      "text/plain": [
       "0.8848444444444444"
      ]
     },
     "execution_count": 8,
     "metadata": {},
     "output_type": "execute_result"
    }
   ],
   "source": [
    "lr.score(X_train_tv, y_train)"
   ]
  },
  {
   "cell_type": "code",
   "execution_count": 9,
   "metadata": {
    "colab": {
     "base_uri": "https://localhost:8080/"
    },
    "id": "KiCiLHdYcxwR",
    "outputId": "2df3efd6-ebdb-43ac-990d-40047e6847f7"
   },
   "outputs": [
    {
     "data": {
      "text/plain": [
       "0.7974666666666667"
      ]
     },
     "execution_count": 9,
     "metadata": {},
     "output_type": "execute_result"
    }
   ],
   "source": [
    "lr.score(X_test_tv, y_test)"
   ]
  },
  {
   "cell_type": "code",
   "execution_count": 10,
   "metadata": {
    "colab": {
     "base_uri": "https://localhost:8080/"
    },
    "id": "9ZbAPSZVc8Fg",
    "outputId": "432e28fb-8cbd-46fd-bcf0-fd2d004232ff"
   },
   "outputs": [
    {
     "data": {
      "text/plain": [
       "0.7886222222222223"
      ]
     },
     "execution_count": 10,
     "metadata": {},
     "output_type": "execute_result"
    }
   ],
   "source": [
    "cross_val_score(lr, X_train_tv, y_train, cv=5).mean()"
   ]
  },
  {
   "cell_type": "markdown",
   "metadata": {
    "id": "UJii-UoEefq0"
   },
   "source": [
    "The score nears the 80% cusp for accuracy, against a 50% baseline (the subreddits are represented evenly both in the initial and final dataset). \n",
    "\n",
    "Because of the nature of the question this study seeks to answer, recall scores are arguably more significant than accuracy scores, or they could be potentially for any scenario in which the goal is detection of suicidality. That is, avoiding false negatives, or missing cases of suicidality, could be paramount. (Again, this study does not claim to have finalized a model that can be put to this purpose, nor is it a proxy for actual diagnoses.)\n",
    "\n",
    "Throughout the modeling process, recall scores tended to correlate generally with their respective accuracy scores. Models with better accuracy had better recall scores and vice versa.\n",
    "\n",
    "It is beyond the scope of this study to determine the \"ideal\" balance between accuracy and recall. A question of that magnitude requires great care and only the most judicious methods of inquiry. However, the Streamlit application (discussed in the section below), was developed with the fine-tuning of these metrics in mind. For this section, a brief confusion matrix is included to give a sense of how recall looks:"
   ]
  },
  {
   "cell_type": "code",
   "execution_count": 13,
   "metadata": {
    "colab": {
     "base_uri": "https://localhost:8080/",
     "height": 279
    },
    "id": "VCrUU16fgOIV",
    "outputId": "80192417-e3cc-413b-8e0f-ccc9d173d30e"
   },
   "outputs": [
    {
     "data": {
      "image/png": "[encoded data removed]",
      "text/plain": [
       "<Figure size 432x288 with 2 Axes>"
      ]
     },
     "metadata": {
      "needs_background": "light"
     },
     "output_type": "display_data"
    }
   ],
   "source": [
    "cm = confusion_matrix(y_test, lr.predict(X_test_tv))\n",
    "disp = ConfusionMatrixDisplay(confusion_matrix = cm, display_labels=lr.classes_)\n",
    "disp.plot();"
   ]
  },
  {
   "cell_type": "markdown",
   "metadata": {
    "id": "b3rE-Gfngv1n"
   },
   "source": [
    "For a more thorough treatment of takeaways that this model provides, see `presentation.pdf`, included in this repo. However, the comparative values of model coefficients for the vectorized data offer some insights. The most significant terms that might lead to a positive classification (or, a classification of containing subject matter related to suicidality) turn out to be terms that seem directly related to dying, isolation, and feelings of worthlessness."
   ]
  },
  {
   "cell_type": "markdown",
   "metadata": {
    "id": "SAz_gaI-hn41"
   },
   "source": [
    "## Part V: Streamlit Application"
   ]
  },
  {
   "cell_type": "markdown",
   "metadata": {
    "id": "W57fdc-Nhpou"
   },
   "source": [
    "The Streamlit application at the time of this writing is extremely rudimentary, but also built according to a design that invites future expansion. Its main function is to take in a body of text from the user as well as a specified probability threshold.\n",
    "\n",
    "This threshold allows the user to optimize according to any predetermined probability of his or her choosing that the text being submitted contains subject matter related to suicidality, according to the model. Again, the purpose is to allow the user to adjust for optimal recall (so to speak), based on the limit deemed most appropriate for the use case in question.\n",
    "\n",
    "The model is called neatly, and is coded in such a way that should a future model perform better, it can be easily swapped in.\n",
    "\n",
    "An `About` page is included, so that if the project ever expands, more authors can be added, along with their contact information so that users can consult them according to their respective areas of expertise. Finally, a `Resources` page is included, to which more items can be added, for anyone seeking more information on suicide prevention."
   ]
  },
  {
   "cell_type": "markdown",
   "metadata": {
    "id": "ca0aNh50jB2b"
   },
   "source": [
    "## Part VI: Conclusion\n",
    "\n",
    "Finally, the model works. Its implications are again somewhat unclear and would require further inquiry to iron out. Suicidality as subject matter can be said to be reliably detectable, but to what degree does suicidality as subject matter correlate with suicidality as such? This is a fair question, but a cursory perusal of the data suggest that the correlation in many cases is indeed present. More data from additional sources could fit to a model to make it more well-rounded, helping to bolster its predictive power in relation to a somewhat nebulous concept. \n",
    "\n",
    "Could further developments connect specific terms with higher coefficients to known warning signs of suicidality, so that users might receive an output of what to read for in their input? This might be possible, but it also enters the realm of \"diagnosis\", and therefore must be treated with the greatest caution. Could known cases of suicide provide data that might be fit to time series models? Again, sensitivty to unforeseen externalities is paramount.\n",
    "\n",
    "As it stands, the model and the Streamlit app form a foundation on which to build in exploring further."
   ]
  }
 ],
 "metadata": {
  "accelerator": "GPU",
  "colab": {
   "collapsed_sections": [],
   "machine_shape": "hm",
   "name": "main.ipynb",
   "provenance": []
  },
  "kernelspec": {
   "display_name": "Python 3",
   "language": "python",
   "name": "python3"
  },
  "language_info": {
   "codemirror_mode": {
    "name": "ipython",
    "version": 3
   },
   "file_extension": ".py",
   "mimetype": "text/x-python",
   "name": "python",
   "nbconvert_exporter": "python",
   "pygments_lexer": "ipython3",
   "version": "3.8.8"
  }
 },
 "nbformat": 4,
 "nbformat_minor": 4
}
